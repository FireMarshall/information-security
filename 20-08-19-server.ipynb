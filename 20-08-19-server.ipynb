{
 "cells": [
  {
   "cell_type": "code",
   "execution_count": 15,
   "metadata": {},
   "outputs": [],
   "source": [
    "# brute force key search with dictionary\n",
    "import socket\n",
    "import sys"
   ]
  },
  {
   "cell_type": "code",
   "execution_count": 4,
   "metadata": {},
   "outputs": [],
   "source": [
    "from nltk.corpus import words"
   ]
  },
  {
   "cell_type": "code",
   "execution_count": 7,
   "metadata": {},
   "outputs": [
    {
     "name": "stdout",
     "output_type": "stream",
     "text": [
      "[nltk_data] Downloading package words to C:\\Users\\Fire\n",
      "[nltk_data]     Marshall\\AppData\\Roaming\\nltk_data...\n",
      "[nltk_data]   Unzipping corpora\\words.zip.\n"
     ]
    },
    {
     "data": {
      "text/plain": [
       "True"
      ]
     },
     "execution_count": 7,
     "metadata": {},
     "output_type": "execute_result"
    }
   ],
   "source": [
    "import nltk\n",
    "nltk.download('words')"
   ]
  },
  {
   "cell_type": "code",
   "execution_count": 10,
   "metadata": {},
   "outputs": [],
   "source": [
    "dictionary = words.words()"
   ]
  },
  {
   "cell_type": "code",
   "execution_count": 12,
   "metadata": {},
   "outputs": [],
   "source": [
    "def decrypt(data, k):\n",
    "    alphabet = dict()\n",
    "    for i in range(26):\n",
    "        alphabet[chr(i+65)] = chr(((i-k)%26)+65)\n",
    "    for i in range(26):\n",
    "        alphabet[chr(i+97)] = chr(((i-k)%26)+97)\n",
    "    alphabet[' '] = ' '\n",
    "    return ''.join(map(lambda e: alphabet[e], list(data)))"
   ]
  },
  {
   "cell_type": "code",
   "execution_count": 13,
   "metadata": {},
   "outputs": [
    {
     "name": "stdout",
     "output_type": "stream",
     "text": [
      "Enter port number to start server on: 1350\n"
     ]
    }
   ],
   "source": [
    "port = int(input(\"Enter port number to start server on: \"))"
   ]
  },
  {
   "cell_type": "code",
   "execution_count": 37,
   "metadata": {},
   "outputs": [],
   "source": [
    "def create_socket():\n",
    "    try:\n",
    "        server = socket.socket(family=socket.AF_INET, type=socket.SOCK_STREAM)\n",
    "        server.bind(('', port))\n",
    "        server.listen(10)\n",
    "    except socket.error as e:\n",
    "        print(e)\n",
    "        sys.exit(1)\n",
    "    return server"
   ]
  },
  {
   "cell_type": "code",
   "execution_count": null,
   "metadata": {},
   "outputs": [
    {
     "name": "stdout",
     "output_type": "stream",
     "text": [
      "Connection from ('127.0.0.1', 51518)\n",
      "Data recieved: yvccf dre\n",
      "Possible keys are : 17\n",
      "Decrypted data using key: 17 is hello man\n",
      "\n"
     ]
    }
   ],
   "source": [
    "server = create_socket()\n",
    "while True:\n",
    "    client, addr = server.accept()\n",
    "    print(\"Connection from\",addr)\n",
    "    \n",
    "    enc_data = client.recv(4096).decode('utf-8').lower()\n",
    "    print(\"Data recieved:\", enc_data)\n",
    "    \n",
    "    possible_keys = list()\n",
    "    for k in range(1,26):\n",
    "        dec_data = decrypt(enc_data, k)\n",
    "        if dec_data.split()[0] in dictionary:\n",
    "            possible_keys.append(k)\n",
    "    \n",
    "    if possible_keys:\n",
    "        print(\"Possible key(s) are :\", ' '.join(map(str, possible_keys)))\n",
    "        for key in possible_keys:\n",
    "            print(\"Decrypted data using key:\", key, \"is\", decrypt(enc_data, key))\n",
    "    else:\n",
    "        print('cannot find constant shift key')\n",
    "    \n",
    "    client.close()\n",
    "    \n",
    "    print()\n",
    "    break\n",
    "server.close()"
   ]
  },
  {
   "cell_type": "code",
   "execution_count": null,
   "metadata": {},
   "outputs": [],
   "source": []
  },
  {
   "cell_type": "code",
   "execution_count": 1,
   "metadata": {},
   "outputs": [],
   "source": [
    "def letter_frequency():\n",
    "    with open('letter-frequency.txt', 'r') as f:\n",
    "        data = dict(map(lambda x : x.strip().split('\\t'), f.readlines()))\n",
    "    return data"
   ]
  },
  {
   "cell_type": "code",
   "execution_count": 3,
   "metadata": {},
   "outputs": [
    {
     "data": {
      "text/plain": [
       "{'E': '12.02',\n",
       " 'T': '9.10',\n",
       " 'A': '8.12',\n",
       " 'O': '7.68',\n",
       " 'I': '7.31',\n",
       " 'N': '6.95',\n",
       " 'S': '6.28',\n",
       " 'R': '6.02',\n",
       " 'H': '5.92',\n",
       " 'D': '4.32',\n",
       " 'L': '3.98',\n",
       " 'U': '2.88',\n",
       " 'C': '2.71',\n",
       " 'M': '2.61',\n",
       " 'F': '2.30',\n",
       " 'Y': '2.11',\n",
       " 'W': '2.09',\n",
       " 'G': '2.03',\n",
       " 'P': '1.82',\n",
       " 'B': '1.49',\n",
       " 'V': '1.11',\n",
       " 'K': '0.69',\n",
       " 'X': '0.17',\n",
       " 'Q': '0.11',\n",
       " 'J': '0.10',\n",
       " 'Z': '0.0'}"
      ]
     },
     "execution_count": 3,
     "metadata": {},
     "output_type": "execute_result"
    }
   ],
   "source": [
    "letter_frequency()"
   ]
  },
  {
   "cell_type": "code",
   "execution_count": null,
   "metadata": {},
   "outputs": [],
   "source": []
  }
 ],
 "metadata": {
  "kernelspec": {
   "display_name": "Python 3",
   "language": "python",
   "name": "python3"
  },
  "language_info": {
   "codemirror_mode": {
    "name": "ipython",
    "version": 3
   },
   "file_extension": ".py",
   "mimetype": "text/x-python",
   "name": "python",
   "nbconvert_exporter": "python",
   "pygments_lexer": "ipython3",
   "version": "3.6.5"
  }
 },
 "nbformat": 4,
 "nbformat_minor": 2
}
