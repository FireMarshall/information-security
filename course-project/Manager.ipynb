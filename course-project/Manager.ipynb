{
 "cells": [
  {
   "cell_type": "code",
   "execution_count": 71,
   "metadata": {},
   "outputs": [],
   "source": [
    "import threading\n",
    "import socket\n",
    "import pickle"
   ]
  },
  {
   "cell_type": "code",
   "execution_count": 112,
   "metadata": {},
   "outputs": [],
   "source": [
    "class ManagerPeer:\n",
    "    def __init__(self, ip):\n",
    "        self.peer_set = set()\n",
    "        self.MANAGER_IP = ip\n",
    "        self.MANAGER_PORT = 8817\n",
    "        self.server_port = 5517\n",
    "        self.server_socket = socket.socket(socket.AF_INET, socket.SOCK_STREAM)\n",
    "        self.server_thread = threading.Thread(target=self.start_server)\n",
    "        self.server_thread.daemon = True\n",
    "        self.server_thread.start()\n",
    "        self.stop_server = False\n",
    "        \n",
    "    def start_server(self):\n",
    "        self.server_socket.bind((self.MANAGER_IP, self.MANAGER_PORT))\n",
    "        self.server_socket.listen(100)\n",
    "        while True:\n",
    "            if self.stop_server:\n",
    "                break\n",
    "\n",
    "            client_peer, address = self.server_socket.accept()\n",
    "            print(f\"incoming connection from {address}\")\n",
    "            recieved_request = client_peer.recv(4096).decode('utf-8')            \n",
    "            ip = recieved_request.split()[1]\n",
    "\n",
    "            if recieved_request.startswith(\"add\"):\n",
    "                self.inform_peers(recieved_request)\n",
    "                client_peer.send(pickle.dumps(self.peer_set))\n",
    "                self.peer_set.add(ip)\n",
    "                print(f\"added {ip}\")\n",
    "                \n",
    "            elif recieved_request.startswith('remove'):\n",
    "                self.peer_set.remove(ip)\n",
    "                self.inform_peers(recieved_request)\n",
    "                print(f\"removed {ip}\")\n",
    "                \n",
    "            client_peer.close()\n",
    "        self.server_socket.close()\n",
    "    \n",
    "    def _stop_server(self):\n",
    "        self.stop_server = True\n",
    "    \n",
    "    def inform_peers(self, message):\n",
    "        operation, new_peer = message.split()\n",
    "        for peer in self.peer_set:\n",
    "            client_socket = socket.socket()\n",
    "            client_socket.settimeout(30)\n",
    "            try:\n",
    "                client_socket.connect((peer, self.server_port))\n",
    "                client_socket.send(f\"{operation}-peer {new_peer}\".encode('utf-8'))\n",
    "                print(f\"Sent to {peer}\")\n",
    "                \n",
    "            except Exception as e:\n",
    "                print(f\"{operation}-peer {peer}\")\n",
    "                print(e)\n",
    "            finally:\n",
    "                client_socket.close()\n",
    "    def __repr__(self):\n",
    "        return f'{self.MANAGER_IP} {self.MANAGER_PORT}\\nPeers: '+' '.join(self.peer_set)"
   ]
  },
  {
   "cell_type": "code",
   "execution_count": 113,
   "metadata": {},
   "outputs": [
    {
     "name": "stdout",
     "output_type": "stream",
     "text": [
      "incoming connection from ('192.168.1.110', 51304)\n",
      "added 192.168.1.110\n",
      "incoming connection from ('192.168.1.106', 60836)\n",
      "Sent to 192.168.1.110\n",
      "added 192.168.1.106\n",
      "incoming connection from ('192.168.1.111', 51248)\n",
      "Sent to 192.168.1.106\n",
      "Sent to 192.168.1.110\n",
      "added 192.168.1.111\n"
     ]
    }
   ],
   "source": [
    "manager_peer = ManagerPeer('192.168.1.109')"
   ]
  },
  {
   "cell_type": "code",
   "execution_count": 109,
   "metadata": {},
   "outputs": [
    {
     "name": "stdout",
     "output_type": "stream",
     "text": [
      "set()\n"
     ]
    }
   ],
   "source": [
    "print(manager_peer.peer_set) "
   ]
  },
  {
   "cell_type": "code",
   "execution_count": 87,
   "metadata": {},
   "outputs": [],
   "source": [
    "manager_peer._stop_server()"
   ]
  },
  {
   "cell_type": "code",
   "execution_count": 94,
   "metadata": {},
   "outputs": [
    {
     "data": {
      "text/plain": [
       "192.168.1.109 8811\n",
       "Peers: 192.168.1.106 192.168.1.111 192.168.1.110"
      ]
     },
     "execution_count": 94,
     "metadata": {},
     "output_type": "execute_result"
    }
   ],
   "source": [
    "manager_peer"
   ]
  },
  {
   "cell_type": "code",
   "execution_count": 57,
   "metadata": {},
   "outputs": [],
   "source": [
    "s = set(['a','b'])"
   ]
  },
  {
   "cell_type": "code",
   "execution_count": 59,
   "metadata": {},
   "outputs": [
    {
     "data": {
      "text/plain": [
       "'heyb a'"
      ]
     },
     "execution_count": 59,
     "metadata": {},
     "output_type": "execute_result"
    }
   ],
   "source": [
    "'hey'+' '.join(s)"
   ]
  },
  {
   "cell_type": "code",
   "execution_count": null,
   "metadata": {},
   "outputs": [],
   "source": []
  }
 ],
 "metadata": {
  "kernelspec": {
   "display_name": "Python 3",
   "language": "python",
   "name": "python3"
  },
  "language_info": {
   "codemirror_mode": {
    "name": "ipython",
    "version": 3
   },
   "file_extension": ".py",
   "mimetype": "text/x-python",
   "name": "python",
   "nbconvert_exporter": "python",
   "pygments_lexer": "ipython3",
   "version": "3.6.5"
  }
 },
 "nbformat": 4,
 "nbformat_minor": 2
}
