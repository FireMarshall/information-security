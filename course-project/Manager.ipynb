{
 "cells": [
  {
   "cell_type": "code",
   "execution_count": 4,
   "metadata": {},
   "outputs": [],
   "source": [
    "import threading\n",
    "import socket\n",
    "import pickle"
   ]
  },
  {
   "cell_type": "code",
   "execution_count": 55,
   "metadata": {},
   "outputs": [],
   "source": [
    "class ManagerPeer:\n",
    "    def __init__(self, ip):\n",
    "        self.peer_set = set()\n",
    "        self.MANAGER_IP = ip\n",
    "        self.MANAGER_PORT = 8800\n",
    "        self.server_port = 5500\n",
    "        self.server_socket = socket.socket(socket.AF_INET, socket.SOCK_STREAM)\n",
    "        self.server_thread = threading.Thread(target=self.start_server)\n",
    "        self.server_thread.daemon = True\n",
    "        self.server_thread.start()\n",
    "        self.stop_server = False\n",
    "        \n",
    "    def start_server(self):\n",
    "        self.server_socket.bind((self.MANAGER_IP, self.MANAGER_PORT))\n",
    "        self.server_socket.listen(10)\n",
    "        while True:\n",
    "            if self.stop_server:\n",
    "                break\n",
    "\n",
    "            client_peer, address = self.server_socket.accept()\n",
    "            print(f\"incoming connection from {address}\")\n",
    "            recieved_request = client_peer.recv(4096).decode('utf-8')            \n",
    "            ip = recieved_request.split()[1]\n",
    "\n",
    "            if recieved_request.startswith(\"add\"):\n",
    "                self.inform_peers(recieved_request)\n",
    "                client_peer.send(pickle.dumps(self.peer_set))\n",
    "                self.peer_set.add(ip)\n",
    "                print(f\"added {ip}\")\n",
    "                \n",
    "            elif recieved_request.startswith('remove'):\n",
    "                self.peer_set.remove(ip)\n",
    "                self.inform_peers(recieved_request)\n",
    "                print(f\"removed {ip}\")\n",
    "                \n",
    "            client_peer.close()\n",
    "        self.server_socket.close()\n",
    "    \n",
    "    def _stop_server(self):\n",
    "        self.stop_server = True\n",
    "    \n",
    "    def inform_peers(self, message):\n",
    "        operation = message.split()[0]\n",
    "        for peer in self.peer_set:\n",
    "            client_socket = socket.socket()\n",
    "            client_socket.connect((peer, self.server_port))\n",
    "            client_socket.send(f\"{operation}-peer {peer}\".encode('utf-8'))\n",
    "            print(f\"Sent to {peer}\")\n",
    "            client_socket.close()\n",
    "    \n",
    "    def __repr__(self):\n",
    "        return f'{self.MANAGER_IP} {self.MANAGER_PORT}\\nPeers: '+' '.join(self.peer_set)"
   ]
  },
  {
   "cell_type": "code",
   "execution_count": 56,
   "metadata": {},
   "outputs": [],
   "source": [
    "manager_peer = ManagerPeer('192.168.1.109')"
   ]
  },
  {
   "cell_type": "code",
   "execution_count": 48,
   "metadata": {},
   "outputs": [
    {
     "name": "stdout",
     "output_type": "stream",
     "text": [
      "set()\n",
      "('192.168.43.228', 49905)\n",
      "added 192.168.43.228\n",
      "('192.168.43.228', 49906)\n",
      "removed 192.168.43.228\n"
     ]
    }
   ],
   "source": [
    "print(manager_peer.peer_set) "
   ]
  },
  {
   "cell_type": "code",
   "execution_count": 49,
   "metadata": {},
   "outputs": [],
   "source": [
    "manager_peer._stop_server()"
   ]
  },
  {
   "cell_type": "code",
   "execution_count": 50,
   "metadata": {},
   "outputs": [
    {
     "data": {
      "text/plain": [
       "<__main__.ManagerPeer at 0x28b1355c390>"
      ]
     },
     "execution_count": 50,
     "metadata": {},
     "output_type": "execute_result"
    }
   ],
   "source": [
    "manager_peer"
   ]
  },
  {
   "cell_type": "code",
   "execution_count": 57,
   "metadata": {},
   "outputs": [],
   "source": [
    "s = set(['a','b'])"
   ]
  },
  {
   "cell_type": "code",
   "execution_count": 59,
   "metadata": {},
   "outputs": [
    {
     "data": {
      "text/plain": [
       "'heyb a'"
      ]
     },
     "execution_count": 59,
     "metadata": {},
     "output_type": "execute_result"
    }
   ],
   "source": [
    "'hey'+' '.join(s)"
   ]
  },
  {
   "cell_type": "code",
   "execution_count": null,
   "metadata": {},
   "outputs": [],
   "source": []
  }
 ],
 "metadata": {
  "kernelspec": {
   "display_name": "Python 3",
   "language": "python",
   "name": "python3"
  },
  "language_info": {
   "codemirror_mode": {
    "name": "ipython",
    "version": 3
   },
   "file_extension": ".py",
   "mimetype": "text/x-python",
   "name": "python",
   "nbconvert_exporter": "python",
   "pygments_lexer": "ipython3",
   "version": "3.6.5"
  }
 },
 "nbformat": 4,
 "nbformat_minor": 2
}
