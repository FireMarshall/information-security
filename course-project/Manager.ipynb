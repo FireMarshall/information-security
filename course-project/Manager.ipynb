{
 "cells": [
  {
   "cell_type": "code",
   "execution_count": 1,
   "metadata": {},
   "outputs": [],
   "source": [
    "import threading\n",
    "import socket\n",
    "import pickle"
   ]
  },
  {
   "cell_type": "code",
   "execution_count": 2,
   "metadata": {},
   "outputs": [],
   "source": [
    "import time\n",
    "import hashlib\n",
    "import json\n",
    "import uuid\n",
    "\n",
    "NANOSECONDS = 1\n",
    "MICROSECONDS = 1000 * NANOSECONDS\n",
    "MILLISECONDS = 1000 * MICROSECONDS\n",
    "SECONDS = 1000 * MILLISECONDS\n",
    "\n",
    "MINE_RATE = 4 * SECONDS\n",
    "\n",
    "STARTING_BALANCE = 1000\n",
    "\n",
    "MINING_REWARD = 50\n",
    "MINING_REWARD_INPUT = { 'address': 'MR' }"
   ]
  },
  {
   "cell_type": "code",
   "execution_count": 3,
   "metadata": {},
   "outputs": [],
   "source": [
    "class TransactionPool:\n",
    "    def __init__(self):\n",
    "        self.transaction_map = {}\n",
    "\n",
    "    def set_transaction(self, transaction):\n",
    "        self.transaction_map[transaction.id] = transaction\n",
    "\n",
    "\n",
    "    def existing_transaction(self, address):\n",
    "        for transaction in self.transaction_map.values():\n",
    "            if transaction.input['address'] == address:\n",
    "                return transaction\n",
    "    \n",
    "    def transaction_data(self):\n",
    "        return list(map(\n",
    "            lambda transaction: transaction.to_json(),\n",
    "            self.transaction_map.values()\n",
    "        ))\n",
    "\n",
    "    def clear_blockchain_transactions(self, blockchain):\n",
    "        for block in blockchain.chain:\n",
    "            for transaction in block.data:\n",
    "                try:\n",
    "                    del self.transaction_map[transaction['id']]\n",
    "                except KeyError:\n",
    "                    pass"
   ]
  },
  {
   "cell_type": "code",
   "execution_count": 160,
   "metadata": {},
   "outputs": [],
   "source": [
    "class ManagerPeer:\n",
    "    def __init__(self, ip):\n",
    "        self.peer_set = set()\n",
    "        self.MANAGER_IP = ip\n",
    "        self.MANAGER_PORT = 8840\n",
    "        self.server_port = 5540\n",
    "        self.server_socket = socket.socket(socket.AF_INET, socket.SOCK_STREAM)\n",
    "        self.server_thread = threading.Thread(target=self.start_server)\n",
    "        self.server_thread.daemon = True\n",
    "        self.server_thread.start()\n",
    "        self.stop_server = False\n",
    "        self.transaction_pool = TransactionPool()\n",
    "        \n",
    "    def start_server(self):\n",
    "        self.server_socket.bind((self.MANAGER_IP, self.MANAGER_PORT))\n",
    "        self.server_socket.listen(100)\n",
    "        print(f\"Listening at port {self.MANAGER_PORT}\")\n",
    "        while True:\n",
    "            if self.stop_server:\n",
    "                break\n",
    "\n",
    "            client_peer, address = self.server_socket.accept()\n",
    "            print(f\"incoming connection from {address}\")\n",
    "            recieved_request = client_peer.recv(4096).decode('utf-8')            \n",
    "            ip = recieved_request.split()[1]\n",
    "\n",
    "            if recieved_request.startswith(\"add\"):\n",
    "                self.inform_peers(recieved_request)\n",
    "                client_peer.send(pickle.dumps(self.peer_set))\n",
    "                self.peer_set.add(ip)\n",
    "                print(f\"added {ip}\")\n",
    "\n",
    "            elif recieved_request.startswith('remove'):\n",
    "                self.peer_set.remove(ip)\n",
    "                self.inform_peers(recieved_request)\n",
    "                print(f\"removed {ip}\")\n",
    "\n",
    "            elif recieved_request.startswith('update-transactionpool'):\n",
    "                new_transactionpool = client_peer.recv(4096)\n",
    "                self.transaction_pool = pickle.loads(new_transactionpool)\n",
    "                \n",
    "            elif recieved_request.startswith('get-transactionpool'):\n",
    "                client_peer.send(pickle.dumps(self.transaction_pool))\n",
    "                \n",
    "            client_peer.close()\n",
    "        self.server_socket.close()\n",
    "    \n",
    "    def _stop_server(self):\n",
    "        self.stop_server = True\n",
    "    \n",
    "    def inform_peers(self, message):\n",
    "        operation, new_peer = message.split()\n",
    "        for peer in self.peer_set:\n",
    "            client_socket = socket.socket()\n",
    "            client_socket.settimeout(30)\n",
    "            try:\n",
    "                client_socket.connect((peer, self.server_port))\n",
    "                client_socket.send(f\"{operation}-peer {new_peer}\".encode('utf-8'))\n",
    "                print(f\"Sent to {peer}\")\n",
    "            except Exception as e:\n",
    "                print(e)\n",
    "                print(f\"{operation}-peer {peer}\")\n",
    "            finally:\n",
    "                client_socket.close()\n",
    "                \n",
    "    def __repr__(self):\n",
    "        return f'{self.MANAGER_IP} {self.MANAGER_PORT}\\nPeers: '+' '.join(self.peer_set)\n",
    "    \n",
    "    "
   ]
  },
  {
   "cell_type": "code",
   "execution_count": 161,
   "metadata": {},
   "outputs": [
    {
     "name": "stdout",
     "output_type": "stream",
     "text": [
      "Listening at port 8840\n"
     ]
    }
   ],
   "source": [
    "manager_peer = ManagerPeer('192.168.43.145')"
   ]
  },
  {
   "cell_type": "code",
   "execution_count": 162,
   "metadata": {},
   "outputs": [
    {
     "name": "stdout",
     "output_type": "stream",
     "text": [
      "set()\n",
      "incoming connection from ('192.168.43.203', 63439)\n",
      "added 192.168.43.203\n",
      "incoming connection from ('192.168.43.203', 63440)\n",
      "incoming connection from ('192.168.43.93', 52171)\n",
      "Sent to 192.168.43.203\n",
      "added 192.168.43.93\n",
      "incoming connection from ('192.168.43.93', 52172)\n",
      "incoming connection from ('192.168.43.203', 63443)\n"
     ]
    },
    {
     "name": "stderr",
     "output_type": "stream",
     "text": [
      "Exception in thread Thread-46:\n",
      "Traceback (most recent call last):\n",
      "  File \"C:\\ProgramData\\Anaconda3\\lib\\threading.py\", line 916, in _bootstrap_inner\n",
      "    self.run()\n",
      "  File \"C:\\ProgramData\\Anaconda3\\lib\\threading.py\", line 864, in run\n",
      "    self._target(*self._args, **self._kwargs)\n",
      "  File \"<ipython-input-160-32f26cd7a325>\", line 24, in start_server\n",
      "    recieved_request = client_peer.recv(4096).decode('utf-8')\n",
      "UnicodeDecodeError: 'utf-8' codec can't decode byte 0x80 in position 22: invalid start byte\n",
      "\n"
     ]
    }
   ],
   "source": [
    "print(manager_peer.peer_set) "
   ]
  },
  {
   "cell_type": "code",
   "execution_count": 42,
   "metadata": {},
   "outputs": [],
   "source": [
    "# manager_peer._stop_server()"
   ]
  },
  {
   "cell_type": "code",
   "execution_count": 106,
   "metadata": {},
   "outputs": [
    {
     "data": {
      "text/plain": [
       "192.168.43.145 8825\n",
       "Peers: 192.168.43.93 192.168.43.203"
      ]
     },
     "execution_count": 106,
     "metadata": {},
     "output_type": "execute_result"
    }
   ],
   "source": [
    "manager_peer"
   ]
  },
  {
   "cell_type": "code",
   "execution_count": 96,
   "metadata": {},
   "outputs": [
    {
     "name": "stdout",
     "output_type": "stream",
     "text": [
      "[]\n"
     ]
    }
   ],
   "source": [
    "print(manager_peer.transaction_pool.transaction_data())"
   ]
  },
  {
   "cell_type": "code",
   "execution_count": 140,
   "metadata": {},
   "outputs": [],
   "source": [
    "s = set()"
   ]
  },
  {
   "cell_type": "code",
   "execution_count": 141,
   "metadata": {},
   "outputs": [
    {
     "data": {
      "text/plain": [
       "b'\\x80\\x03cbuiltins\\nset\\nq\\x00]q\\x01\\x85q\\x02Rq\\x03.'"
      ]
     },
     "execution_count": 141,
     "metadata": {},
     "output_type": "execute_result"
    }
   ],
   "source": [
    "pickle.dumps(s)"
   ]
  },
  {
   "cell_type": "code",
   "execution_count": 163,
   "metadata": {},
   "outputs": [],
   "source": [
    "s = 'str'"
   ]
  },
  {
   "cell_type": "code",
   "execution_count": 164,
   "metadata": {},
   "outputs": [],
   "source": [
    "b = s.encode()"
   ]
  },
  {
   "cell_type": "code",
   "execution_count": null,
   "metadata": {},
   "outputs": [],
   "source": []
  },
  {
   "cell_type": "code",
   "execution_count": null,
   "metadata": {},
   "outputs": [],
   "source": []
  }
 ],
 "metadata": {
  "kernelspec": {
   "display_name": "Python 3",
   "language": "python",
   "name": "python3"
  },
  "language_info": {
   "codemirror_mode": {
    "name": "ipython",
    "version": 3
   },
   "file_extension": ".py",
   "mimetype": "text/x-python",
   "name": "python",
   "nbconvert_exporter": "python",
   "pygments_lexer": "ipython3",
   "version": "3.6.5"
  }
 },
 "nbformat": 4,
 "nbformat_minor": 2
}
