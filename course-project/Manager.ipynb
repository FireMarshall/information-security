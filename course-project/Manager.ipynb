{
 "cells": [
  {
   "cell_type": "code",
   "execution_count": 1,
   "metadata": {},
   "outputs": [],
   "source": [
    "import hashlib\n",
    "from datetime import datetime"
   ]
  },
  {
   "cell_type": "code",
   "execution_count": 43,
   "metadata": {},
   "outputs": [],
   "source": [
    "class Block:\n",
    "    \n",
    "    def __init__(self, data, previous_hash, time):\n",
    "        self.data = data\n",
    "        self.previous_hash = previous_hash\n",
    "        self.time = time\n",
    "    \n",
    "    def get_current_hash(self, data):\n",
    "        hash_val = hashlib.sha256(bytes(data))\n",
    "        return hash_val"
   ]
  },
  {
   "cell_type": "code",
   "execution_count": 44,
   "metadata": {},
   "outputs": [],
   "source": [
    "Blockchain = list()"
   ]
  },
  {
   "cell_type": "code",
   "execution_count": 45,
   "metadata": {},
   "outputs": [],
   "source": [
    "def create_genesis_block(data):\n",
    "    hash_val = hashlib.sha256(bytes(data))\n",
    "    blk = Block(data=data, previous_hash=hash_val.hexdigest(), time=datetime.timestamp(datetime.now()))\n",
    "    Blockchain.append(blk)"
   ]
  },
  {
   "cell_type": "code",
   "execution_count": 46,
   "metadata": {},
   "outputs": [],
   "source": [
    "def next_block(data, previous_block):\n",
    "    hash_val = previous_block.get_current_hash(data)\n",
    "    blk = Block(data=data, previous_hash=hash_val.hexdigest(), time=datetime.timestamp(datetime.now()))\n",
    "    Blockchain.append(blk)"
   ]
  },
  {
   "cell_type": "code",
   "execution_count": 47,
   "metadata": {},
   "outputs": [
    {
     "name": "stdout",
     "output_type": "stream",
     "text": [
      "123\n",
      "409a7f83ac6b31dc8c77e3ec18038f209bd2f545e0f4177c2e2381aa4e067b49\n",
      "124\n",
      "7b8ec8dd836b564f0c85ad088fc744de820345204e154bc1503e04e9d6fdd9f1\n",
      "125\n",
      "42d699d9e89e439804c0981f96b1a3fa7dbe42c6be1dbca6211c6faa4e0e2463\n",
      "126\n",
      "ebc47d1683f1e8b6d506bf43f07f93e64fcb54ea8310a90211336139a80e706a\n"
     ]
    }
   ],
   "source": [
    "create_genesis_block(123)\n",
    "for i in range(124,127):\n",
    "    next_block(i, Blockchain[-1])\n",
    "for blocks in Blockchain:\n",
    "    print(blocks.data)\n",
    "    print(blocks.previous_hash)"
   ]
  },
  {
   "cell_type": "markdown",
   "metadata": {},
   "source": [
    "### Socket Programming-Threads"
   ]
  },
  {
   "cell_type": "code",
   "execution_count": 3,
   "metadata": {},
   "outputs": [
    {
     "ename": "ModuleNotFoundError",
     "evalue": "No module named 'pythonwifi'",
     "output_type": "error",
     "traceback": [
      "\u001b[1;31m---------------------------------------------------------------------------\u001b[0m",
      "\u001b[1;31mModuleNotFoundError\u001b[0m                       Traceback (most recent call last)",
      "\u001b[1;32m<ipython-input-3-a04e73e16974>\u001b[0m in \u001b[0;36m<module>\u001b[1;34m()\u001b[0m\n\u001b[0;32m      2\u001b[0m \u001b[1;32mimport\u001b[0m \u001b[0msocket\u001b[0m\u001b[1;33m\u001b[0m\u001b[0m\n\u001b[0;32m      3\u001b[0m \u001b[1;32mimport\u001b[0m \u001b[0mpickle\u001b[0m\u001b[1;33m\u001b[0m\u001b[0m\n\u001b[1;32m----> 4\u001b[1;33m \u001b[1;32mimport\u001b[0m \u001b[0mpythonwifi\u001b[0m\u001b[1;33m\u001b[0m\u001b[0m\n\u001b[0m",
      "\u001b[1;31mModuleNotFoundError\u001b[0m: No module named 'pythonwifi'"
     ]
    }
   ],
   "source": [
    "import threading\n",
    "import socket\n",
    "import pickle\n",
    "import pythonwifi"
   ]
  },
  {
   "cell_type": "code",
   "execution_count": 1,
   "metadata": {},
   "outputs": [],
   "source": [
    "class ManagerPeer:\n",
    "    def __init__(self, ip):\n",
    "        self.peer_set = set()\n",
    "        self.MANAGER_IP = ip\n",
    "        self.MANAGER_PORT = 8090\n",
    "        self.server_port = 5060\n",
    "        self.server_socket = socket.socket(socket.AF_INET, socket.SOCK_STREAM)\n",
    "        self.server_thread = threading.Thread(target=self.start_server)\n",
    "        self.server_thread.daemon = True\n",
    "        self.server_thread.start()\n",
    "        self.stop_server = False\n",
    "        \n",
    "    def start_server(self):\n",
    "        self.server_socket.bind((self.MANAGER_IP, self.MANAGER_PORT))\n",
    "        self.server_socket.listen(10)\n",
    "        while True:\n",
    "            client_peer, address = self.server_socket.accept()\n",
    "            print(address)\n",
    "            recieved_request = client_peer.recv(4096)\n",
    "            recieved_request = recieved_request.decode('utf-8')\n",
    "            if self.stop_server:\n",
    "                break\n",
    "            if recieved_request.startswith(\"add\"):\n",
    "                requested_ip = recieved_request.split()[1]\n",
    "                print(requested_ip)\n",
    "                self.inform_peers(requested_ip)\n",
    "                client_peer.send(pickle.dumps(self.peer_set))\n",
    "                self.peer_set.add(recieved_request.split()[1])\n",
    "                print(f\"{requested_ip} Added to list\")\n",
    "                print(recieved_request)\n",
    "            client_peer.close()\n",
    "    \n",
    "    def _stop_server(self):\n",
    "        self.stop_server = True\n",
    "    \n",
    "    def inform_peers(self, peer_ip):\n",
    "        for peer in self.peer_set:\n",
    "            client_socket = socket.socket()\n",
    "            print(\"Connecting\")\n",
    "            client_socket.connect((peer, self.server_port))\n",
    "            print(\"Connected\")\n",
    "            client_socket.send(f\"add-peer {peer_ip}\".encode('utf-8'))\n",
    "            print(f\"Sent to {peer}\")\n",
    "            client_socket.close()"
   ]
  },
  {
   "cell_type": "code",
   "execution_count": 4,
   "metadata": {},
   "outputs": [
    {
     "name": "stdout",
     "output_type": "stream",
     "text": [
      "('192.168.1.103', 59827)\n",
      "192.168.1.103\n",
      "192.168.1.103 Added to list\n",
      "add 192.168.1.103\n",
      "('192.168.1.110', 49692)\n",
      "192.168.1.110\n",
      "Connecting\n",
      "Connected\n",
      "Sent to 192.168.1.103\n",
      "192.168.1.110 Added to list\n",
      "add 192.168.1.110\n",
      "('192.168.1.111', 64463)\n",
      "192.168.1.111\n",
      "Connecting\n",
      "Connected\n",
      "Sent to 192.168.1.110\n",
      "Connecting\n",
      "Connected\n",
      "Sent to 192.168.1.103\n",
      "192.168.1.111 Added to list\n",
      "add 192.168.1.111\n"
     ]
    }
   ],
   "source": [
    "manager_peer = ManagerPeer('192.168.1.109')"
   ]
  },
  {
   "cell_type": "code",
   "execution_count": 5,
   "metadata": {},
   "outputs": [
    {
     "name": "stdout",
     "output_type": "stream",
     "text": [
      "{'192.168.1.111', '192.168.1.110', '192.168.1.103'}\n"
     ]
    }
   ],
   "source": [
    "print(manager_peer.peer_set)"
   ]
  },
  {
   "cell_type": "code",
   "execution_count": 38,
   "metadata": {},
   "outputs": [],
   "source": [
    "#peer 1 pesudo server\n",
    "def run_server_peer(port):\n",
    "    peer = socket.socket(socket.AF_INET, socket.SOCK_STREAM)\n",
    "    peer.bind(('192.168.43.228', port))\n",
    "    peer.listen(5)\n",
    "    while True:\n",
    "        peer_c, addr = peer.accept()\n",
    "        msg = peer_c.recv(1024)\n",
    "        msg = int.from_bytes(msg, \"big\")\n",
    "        print(type(msg))\n",
    "        print(msg)"
   ]
  },
  {
   "cell_type": "code",
   "execution_count": 43,
   "metadata": {},
   "outputs": [],
   "source": [
    "def run_client_peer(host_ip, port, data):\n",
    "    peer = socket.socket()\n",
    "    peer.connect((host_ip, port))\n",
    "    peer.send(bytes(data))"
   ]
  },
  {
   "cell_type": "code",
   "execution_count": 67,
   "metadata": {},
   "outputs": [],
   "source": [
    "def add_peer_request(port):\n",
    "    peer = socket.socket(socket.AF_INET, socket.SOCK_STREAM)\n",
    "    peer.bind(('192.168.43.228', port))\n",
    "    peer.listen(5)\n",
    "    while True:\n",
    "        peer_c, addr = peer.accept()\n",
    "        msg = peer_c.recv(1024)\n",
    "        msg = msg.decode('utf-8')\n",
    "        if msg.startswith(\"add\"):\n",
    "            peer_c.send(pickle.dumps(peer_list))\n",
    "            commands = msg.split()\n",
    "            peer_list.add(commands[1])\n",
    "            print(f\"{commands[1]} Added to list\")\n",
    "        print(msg)\n",
    "        peer_c.close()\n",
    "    peer.close()"
   ]
  },
  {
   "cell_type": "code",
   "execution_count": 68,
   "metadata": {},
   "outputs": [
    {
     "name": "stdout",
     "output_type": "stream",
     "text": [
      "192.168.43.152 Added to list\n",
      "add 192.168.43.152\n"
     ]
    }
   ],
   "source": [
    "server_thread = threading.Thread(target=add_peer_request, args=[8080])\n",
    "server_thread.daemon = True\n",
    "server_thread.start()"
   ]
  },
  {
   "cell_type": "code",
   "execution_count": 62,
   "metadata": {},
   "outputs": [
    {
     "name": "stdout",
     "output_type": "stream",
     "text": [
      "['192.168.43.152', '192.168.43.152']\n"
     ]
    }
   ],
   "source": [
    "print(peer_list)"
   ]
  },
  {
   "cell_type": "code",
   "execution_count": 40,
   "metadata": {},
   "outputs": [],
   "source": [
    "server_thread = threading.Thread(target=run_server_peer, args=[1044])\n",
    "server_thread.daemon = True\n",
    "server_thread.start()"
   ]
  },
  {
   "cell_type": "code",
   "execution_count": null,
   "metadata": {},
   "outputs": [],
   "source": [
    "run_client_peer('192.168.43.152', 1044, 129)"
   ]
  }
 ],
 "metadata": {
  "kernelspec": {
   "display_name": "Python 3",
   "language": "python",
   "name": "python3"
  },
  "language_info": {
   "codemirror_mode": {
    "name": "ipython",
    "version": 3
   },
   "file_extension": ".py",
   "mimetype": "text/x-python",
   "name": "python",
   "nbconvert_exporter": "python",
   "pygments_lexer": "ipython3",
   "version": "3.6.5"
  }
 },
 "nbformat": 4,
 "nbformat_minor": 2
}
