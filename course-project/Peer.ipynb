{
 "cells": [
  {
   "cell_type": "code",
   "execution_count": 3,
   "metadata": {},
   "outputs": [],
   "source": [
    "Blockchain = list()"
   ]
  },
  {
   "cell_type": "code",
   "execution_count": null,
   "metadata": {},
   "outputs": [],
   "source": [
    "create_genesis_block(123)\n",
    "for i in range(124,127):\n",
    "    next_block(i, Blockchain[-1])\n",
    "for blocks in Blockchain:\n",
    "    print(blocks.data)\n",
    "    print(blocks.previous_hash)"
   ]
  },
  {
   "cell_type": "markdown",
   "metadata": {},
   "source": [
    "### Socket Programming-Threads"
   ]
  },
  {
   "cell_type": "code",
   "execution_count": 1,
   "metadata": {},
   "outputs": [],
   "source": [
    "import threading\n",
    "import socket\n",
    "import pickle\n",
    "import hashlib\n",
    "from ecdsa import SigningKey"
   ]
  },
  {
   "cell_type": "code",
   "execution_count": 4,
   "metadata": {},
   "outputs": [],
   "source": [
    "class Transaction:\n",
    "    \n",
    "    def __init__(self, fromm, to, amount, signature):\n",
    "        self.fromm = fromm\n",
    "        self.to = to\n",
    "        self.amount = amount\n",
    "        self.signature = signature\n",
    "    \n",
    "    def get_string(self):\n",
    "        trans_string_obj = str(self.fromm)+str(self.to)+str(self.amount)\n",
    "        return trans_string_obj"
   ]
  },
  {
   "cell_type": "code",
   "execution_count": 5,
   "metadata": {},
   "outputs": [],
   "source": [
    "class Block:\n",
    "    \n",
    "    \n",
    "    def __init__(self):\n",
    "        self.block_id = 0\n",
    "        self.nounce = 0\n",
    "        self.transaction = list()\n",
    "        self.previous_hash = None\n",
    "    \n",
    "    def get_current_hash(self):\n",
    "        hash_val = hashlib.sha256((self.get_transaction_string_obj()).encode('utf-8'))\n",
    "        return hash_val\n",
    "    \n",
    "    def get_transaction_string_obj(self):\n",
    "        trans_string = str()\n",
    "        for transaction in self.transaction:\n",
    "            trans_string = trans_string + transaction.get_string()\n",
    "        trans_string = trans_string + str(self.balance) + str(self.nounce) \\\n",
    "            + str(self.previous_hash)\n",
    "        return trans_string\n",
    "    "
   ]
  },
  {
   "cell_type": "code",
   "execution_count": null,
   "metadata": {},
   "outputs": [],
   "source": [
    "def create_genesis_block(data):\n",
    "    hash_val = hashlib.sha256(bytes(data))\n",
    "    blk = Block(data=data, previous_hash=hash_val.hexdigest(), time=datetime.timestamp(datetime.now()))\n",
    "    Blockchain.append(blk)"
   ]
  },
  {
   "cell_type": "code",
   "execution_count": null,
   "metadata": {},
   "outputs": [],
   "source": [
    "def next_block(data, previous_block):\n",
    "    hash_val = previous_block.get_current_hash(data)\n",
    "    blk = Block(data=data, previous_hash=hash_val.hexdigest(), time=datetime.timestamp(datetime.now()))\n",
    "    Blockchain.append(blk)"
   ]
  },
  {
   "cell_type": "code",
   "execution_count": 6,
   "metadata": {},
   "outputs": [],
   "source": [
    "# client side\n",
    "\n",
    "class Peer:\n",
    "    \n",
    "    \n",
    "    def __init__(self, ip):\n",
    "        self.MANAGER_IP = '192.168.1.109'\n",
    "        self.MANAGER_PORT = 8800\n",
    "        self.server_port = 5500\n",
    "        self.client_ip = ip\n",
    "        self.client_socket = socket.socket()\n",
    "        self.server_socket = socket.socket(socket.AF_INET, socket.SOCK_STREAM, 0)\n",
    "        self.blockchain = list()\n",
    "        self.server_thread = threading.Thread(target=self.start_server)\n",
    "        self.server_thread.daemon = True\n",
    "        self.server_thread.start()\n",
    "        self.stop_server = False\n",
    "        self.peers = list()\n",
    "        self.balance = 0\n",
    "        self.secret_key = SigningKey.get_verifying_key()\n",
    "       \n",
    "    \n",
    "    def start_server(self):\n",
    "        self.server_socket.bind((self.client_ip, self.server_port))\n",
    "        self.server_socket.listen(10)\n",
    "        while True:\n",
    "            client_peer, address = self.server_socket.accept()\n",
    "            # actions\n",
    "            data = client_peer.recv(4096).decode('utf-8')\n",
    "            # add  \n",
    "            if data.startswith('add-peer'):\n",
    "                self.peers.add(data.split()[1])\n",
    "            elif data.startswith('remove-peer'):\n",
    "                self.peers.remove(data.split()[1])\n",
    "            else:\n",
    "                transaction_obj = pickle.loads(client_peer.recv(4096))\n",
    "                new_block = Block()\n",
    "        self.server_socket.close()\n",
    "      \n",
    "    \n",
    "    def _stop_server(self):\n",
    "        self.stop_server = True\n",
    "      \n",
    "    \n",
    "    def _inform_manager_add(self, message):\n",
    "        sock = socket.socket()\n",
    "        sock.connect((self.MANAGER_IP, self.MANAGER_PORT))\n",
    "        sock.send(message.encode('utf-8'))\n",
    "        peers = pickle.loads(sock.recv(4096))\n",
    "        self.peers = peers\n",
    "    \n",
    "    \n",
    "    def _inform_manager_delete(self, message):\n",
    "        sock = socket.socket()\n",
    "        sock.connect((self.MANAGER_IP, self.MANAGER_PORT))\n",
    "        sock.send(message.encode('utf-8'))\n",
    "    \n",
    "    \n",
    "    def leave_network(self):\n",
    "        return self._inform_manager_delete(f\"remove {self.client_ip}\")\n",
    "        \n",
    "        \n",
    "    def join_network(self):\n",
    "        return self._inform_manager_add(f'add {self.client_ip}')\n",
    "    \n",
    "    \n",
    "    def update_balance(self, amount):\n",
    "        self.balance = amount\n",
    "    \n",
    "    def do_transaction(self, fromm, to, amount):\n",
    "        if amount > self.balance:\n",
    "            print(\"Not allowed\")\n",
    "            #actions\n",
    "        else :\n",
    "            message = str(fromm) + str(to) + str(amount)\n",
    "            public_key = SigningKey.generate() # uses NIST192p\n",
    "            secret_key = public_key.get_verifying_key()\n",
    "            signature = public_key.sign(message.encode('utf-8'))\n",
    "            transaction_obj = Transaction(fromm, to, amount, signature)\n",
    "            for peer in self.peers:\n",
    "                sock = socket.socket()\n",
    "                sock.connect((peer, self.server_port))\n",
    "                sock.send(pickle.dumps(transaction_obj))\n",
    "                sock.close()"
   ]
  },
  {
   "cell_type": "code",
   "execution_count": 41,
   "metadata": {},
   "outputs": [],
   "source": [
    "client = Peer('192.168.1.110')"
   ]
  },
  {
   "cell_type": "code",
   "execution_count": 42,
   "metadata": {},
   "outputs": [],
   "source": [
    "client.join_network()"
   ]
  },
  {
   "cell_type": "code",
   "execution_count": 43,
   "metadata": {},
   "outputs": [],
   "source": [
    "client.leave_network()"
   ]
  },
  {
   "cell_type": "code",
   "execution_count": 21,
   "metadata": {},
   "outputs": [],
   "source": [
    "client._stop_server()"
   ]
  },
  {
   "cell_type": "code",
   "execution_count": 44,
   "metadata": {},
   "outputs": [
    {
     "data": {
      "text/plain": [
       "set()"
      ]
     },
     "execution_count": 44,
     "metadata": {},
     "output_type": "execute_result"
    }
   ],
   "source": [
    "client.peers"
   ]
  },
  {
   "cell_type": "code",
   "execution_count": 49,
   "metadata": {},
   "outputs": [],
   "source": [
    "from ecdsa import SigningKey\n",
    "sk = SigningKey.generate() # uses NIST192p\n",
    "vk = sk.get_verifying_key()\n",
    "signature = sk.sign(\"message\".encode('utf-8'))\n",
    "assert vk.verify(signature, \"message\".encode('utf-8'))"
   ]
  },
  {
   "cell_type": "code",
   "execution_count": null,
   "metadata": {},
   "outputs": [],
   "source": []
  }
 ],
 "metadata": {
  "kernelspec": {
   "display_name": "Python 3",
   "language": "python",
   "name": "python3"
  },
  "language_info": {
   "codemirror_mode": {
    "name": "ipython",
    "version": 3
   },
   "file_extension": ".py",
   "mimetype": "text/x-python",
   "name": "python",
   "nbconvert_exporter": "python",
   "pygments_lexer": "ipython3",
   "version": "3.6.5"
  }
 },
 "nbformat": 4,
 "nbformat_minor": 2
}
