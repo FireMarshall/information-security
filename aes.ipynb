{
 "cells": [
  {
   "cell_type": "code",
   "execution_count": 57,
   "metadata": {},
   "outputs": [],
   "source": [
    "import pandas as pd\n",
    "from time import time\n",
    "import matplotlib.pyplot as plt\n",
    "%matplotlib inline\n",
    "plt.rcParams['figure.figsize'] = [10, 7]\n",
    "from Crypto.Cipher import DES, AES\n",
    "from Crypto.Util.Padding import pad, unpad"
   ]
  },
  {
   "cell_type": "code",
   "execution_count": 58,
   "metadata": {},
   "outputs": [],
   "source": [
    "def nextblocks(blocks):\n",
    "    block = ('qwertyuiopasdfghjklzxcvbnm123456'*8)\n",
    "    for _ in range(blocks):\n",
    "        yield block"
   ]
  },
  {
   "cell_type": "code",
   "execution_count": 59,
   "metadata": {},
   "outputs": [],
   "source": [
    "def create_files(sizes):\n",
    "    for size in sizes:\n",
    "        with open(f\"text.{size}MB.txt\", \"w\") as file:\n",
    "            for block in nextblocks(size):\n",
    "                file.write(block)"
   ]
  },
  {
   "cell_type": "code",
   "execution_count": 69,
   "metadata": {},
   "outputs": [],
   "source": [
    "sizes = [1, 2, 4, 8, 16, 32, 64, 128, 256, 512, 1024, 2048, 4096, 8192, 16535]\n",
    "\n",
    "create_files(sizes)\n",
    "\n",
    "df = pd.DataFrame(columns=['size', 'DES_Encryption', 'DES_Decryption' ,'AES_Encryption' ,'AES_Decryption'])\n",
    "df['size'] = sizes"
   ]
  },
  {
   "cell_type": "code",
   "execution_count": 70,
   "metadata": {},
   "outputs": [],
   "source": [
    "def timethis(function):\n",
    "    def func(*args, **kwargs):        \n",
    "        start = time()\n",
    "        data  = function(*args, **kwargs)\n",
    "        end = time()\n",
    "        print(f'{function.__name__} executed in {end - start}')\n",
    "        return (data, (end-start), )\n",
    "    return func"
   ]
  },
  {
   "cell_type": "code",
   "execution_count": 71,
   "metadata": {},
   "outputs": [],
   "source": [
    "def read_key():\n",
    "    return input(\"Enter the key: \")\n",
    "\n",
    "def read_iv():\n",
    "    return input(\"Enter the initial vector: \")\n"
   ]
  },
  {
   "cell_type": "code",
   "execution_count": 72,
   "metadata": {},
   "outputs": [],
   "source": [
    "@timethis\n",
    "def encrypt(cipher, data):\n",
    "    return cipher.encrypt(data)\n",
    "\n",
    "@timethis\n",
    "def decrypt(cipher, ciphertext):\n",
    "    return cipher.decrypt(ciphertext)"
   ]
  },
  {
   "cell_type": "code",
   "execution_count": 73,
   "metadata": {},
   "outputs": [],
   "source": [
    "#DES\n",
    "\n",
    "def run_DES(key = None):\n",
    "    \n",
    "    if not key: key = read_key().encode('utf-8')\n",
    "\n",
    "    files = [f'text.{size}MB.txt' for size in sizes]\n",
    "    encryption_times = []\n",
    "    decryption_times = []\n",
    "    \n",
    "    for file_name in files:\n",
    "        des = DES.new(pad(key, block_size=DES.block_size), mode=DES.MODE_ECB)\n",
    "\n",
    "        with open(file_name,'r') as f:\n",
    "            file_contents = f.read().encode('utf-8')\n",
    "            \n",
    "        print('File:', file_name)\n",
    "        \n",
    "        padded_file_contents = pad(file_contents, DES.block_size)    \n",
    "        cipher_text, time_elapsed = encrypt(des, padded_file_contents)\n",
    "        encryption_times.append(time_elapsed)\n",
    "        \n",
    "        decrypted, time_elapsed = decrypt(des, cipher_text)\n",
    "        decrypted = unpad(decrypted, block_size=DES.block_size)\n",
    "        decryption_times.append(time_elapsed)\n",
    "        \n",
    "        print('Successful:',file_contents == decrypted,'\\n')\n",
    "    \n",
    "    df['DES_Encryption'] = encryption_times\n",
    "    df['DES_Decryption'] = decryption_times    "
   ]
  },
  {
   "cell_type": "code",
   "execution_count": 74,
   "metadata": {},
   "outputs": [
    {
     "name": "stdout",
     "output_type": "stream",
     "text": [
      "Enter the key: \n",
      "File: text.1MB.txt\n",
      "encrypt executed in 0.0\n",
      "decrypt executed in 0.0\n",
      "Successful: True \n",
      "\n",
      "File: text.2MB.txt\n",
      "encrypt executed in 0.0\n",
      "decrypt executed in 0.0\n",
      "Successful: True \n",
      "\n",
      "File: text.4MB.txt\n",
      "encrypt executed in 0.0\n",
      "decrypt executed in 0.0\n",
      "Successful: True \n",
      "\n",
      "File: text.8MB.txt\n",
      "encrypt executed in 0.0\n",
      "decrypt executed in 0.0\n",
      "Successful: True \n",
      "\n",
      "File: text.16MB.txt\n",
      "encrypt executed in 0.0\n",
      "decrypt executed in 0.0\n",
      "Successful: True \n",
      "\n",
      "File: text.32MB.txt\n",
      "encrypt executed in 0.0\n",
      "decrypt executed in 0.000997781753540039\n",
      "Successful: True \n",
      "\n",
      "File: text.64MB.txt\n",
      "encrypt executed in 0.000997304916381836\n",
      "decrypt executed in 0.0\n",
      "Successful: True \n",
      "\n",
      "File: text.128MB.txt\n",
      "encrypt executed in 0.0\n",
      "decrypt executed in 0.0009951591491699219\n",
      "Successful: True \n",
      "\n",
      "File: text.256MB.txt\n",
      "encrypt executed in 0.0009965896606445312\n",
      "decrypt executed in 0.0009975433349609375\n",
      "Successful: True \n",
      "\n",
      "File: text.512MB.txt\n",
      "encrypt executed in 0.001993894577026367\n",
      "decrypt executed in 0.0019965171813964844\n",
      "Successful: True \n",
      "\n",
      "File: text.1024MB.txt\n",
      "encrypt executed in 0.003986358642578125\n",
      "decrypt executed in 0.003989219665527344\n",
      "Successful: True \n",
      "\n",
      "File: text.2048MB.txt\n",
      "encrypt executed in 0.007977962493896484\n",
      "decrypt executed in 0.006981611251831055\n",
      "Successful: True \n",
      "\n",
      "File: text.4096MB.txt\n",
      "encrypt executed in 0.013961076736450195\n",
      "decrypt executed in 0.013962507247924805\n",
      "Successful: True \n",
      "\n",
      "File: text.8192MB.txt\n",
      "encrypt executed in 0.028921842575073242\n",
      "decrypt executed in 0.02892303466796875\n",
      "Successful: True \n",
      "\n",
      "File: text.16535MB.txt\n",
      "encrypt executed in 0.06386995315551758\n",
      "decrypt executed in 0.06283330917358398\n",
      "Successful: True \n",
      "\n"
     ]
    }
   ],
   "source": [
    "run_DES()"
   ]
  },
  {
   "cell_type": "code",
   "execution_count": 75,
   "metadata": {},
   "outputs": [],
   "source": [
    "# AES\n",
    "\n",
    "def run_AES(key=None):\n",
    "    \n",
    "    if not key: key = read_key().encode('utf-8')\n",
    "\n",
    "    files = [f'text.{size}MB.txt' for size in sizes]\n",
    "    encryption_times = []\n",
    "    decryption_times = []\n",
    "    \n",
    "    for file_name in files:\n",
    "        \n",
    "        aes = AES.new(pad(key, AES.block_size), AES.MODE_ECB)\n",
    "\n",
    "        with open(file_name,'r') as f:\n",
    "            file_contents = f.read().encode('utf-8')\n",
    "\n",
    "        print('File:', file_name)\n",
    "        \n",
    "        padded_file_contents = pad(file_contents, AES.block_size)\n",
    "        cipher_text, time_elapsed = encrypt(aes, padded_file_contents)\n",
    "        encryption_times.append(time_elapsed)\n",
    "\n",
    "        decrypted, time_elapsed = decrypt(aes, cipher_text)\n",
    "        decrypted = unpad(decrypted, AES.block_size)\n",
    "        decryption_times.append(time_elapsed)\n",
    "        \n",
    "        print('Successful:',file_contents == decrypted, '\\n')\n",
    "        \n",
    "    df['AES_Encryption'] = encryption_times\n",
    "    df['AES_Decryption'] = decryption_times "
   ]
  },
  {
   "cell_type": "code",
   "execution_count": 76,
   "metadata": {},
   "outputs": [
    {
     "name": "stdout",
     "output_type": "stream",
     "text": [
      "Enter the key: \n",
      "File: text.1MB.txt\n",
      "encrypt executed in 0.0\n",
      "decrypt executed in 0.0\n",
      "Successful: True \n",
      "\n",
      "File: text.2MB.txt\n",
      "encrypt executed in 0.0\n",
      "decrypt executed in 0.0\n",
      "Successful: True \n",
      "\n",
      "File: text.4MB.txt\n",
      "encrypt executed in 0.0\n",
      "decrypt executed in 0.0\n",
      "Successful: True \n",
      "\n",
      "File: text.8MB.txt\n",
      "encrypt executed in 0.0\n",
      "decrypt executed in 0.0\n",
      "Successful: True \n",
      "\n",
      "File: text.16MB.txt\n",
      "encrypt executed in 0.0\n",
      "decrypt executed in 0.0\n",
      "Successful: True \n",
      "\n",
      "File: text.32MB.txt\n",
      "encrypt executed in 0.0\n",
      "decrypt executed in 0.0\n",
      "Successful: True \n",
      "\n",
      "File: text.64MB.txt\n",
      "encrypt executed in 0.0\n",
      "decrypt executed in 0.0\n",
      "Successful: True \n",
      "\n",
      "File: text.128MB.txt\n",
      "encrypt executed in 0.0\n",
      "decrypt executed in 0.0\n",
      "Successful: True \n",
      "\n",
      "File: text.256MB.txt\n",
      "encrypt executed in 0.0\n",
      "decrypt executed in 0.0\n",
      "Successful: True \n",
      "\n",
      "File: text.512MB.txt\n",
      "encrypt executed in 0.0\n",
      "decrypt executed in 0.0\n",
      "Successful: True \n",
      "\n",
      "File: text.1024MB.txt\n",
      "encrypt executed in 0.0\n",
      "decrypt executed in 0.0009951591491699219\n",
      "Successful: True \n",
      "\n",
      "File: text.2048MB.txt\n",
      "encrypt executed in 0.0009984970092773438\n",
      "decrypt executed in 0.0\n",
      "Successful: True \n",
      "\n",
      "File: text.4096MB.txt\n",
      "encrypt executed in 0.0019953250885009766\n",
      "decrypt executed in 0.0019941329956054688\n",
      "Successful: True \n",
      "\n",
      "File: text.8192MB.txt\n",
      "encrypt executed in 0.00299072265625\n",
      "decrypt executed in 0.002992391586303711\n",
      "Successful: True \n",
      "\n",
      "File: text.16535MB.txt\n",
      "encrypt executed in 0.004994630813598633\n",
      "decrypt executed in 0.005029439926147461\n",
      "Successful: True \n",
      "\n"
     ]
    }
   ],
   "source": [
    "run_AES()"
   ]
  },
  {
   "cell_type": "code",
   "execution_count": 77,
   "metadata": {},
   "outputs": [
    {
     "data": {
      "text/plain": [
       "<Figure size 960x480 with 0 Axes>"
      ]
     },
     "execution_count": 77,
     "metadata": {},
     "output_type": "execute_result"
    },
    {
     "data": {
      "image/png": "[encoded data removed]",
      "text/plain": [
       "<Figure size 720x504 with 1 Axes>"
      ]
     },
     "metadata": {},
     "output_type": "display_data"
    },
    {
     "data": {
      "text/plain": [
       "<Figure size 960x480 with 0 Axes>"
      ]
     },
     "metadata": {},
     "output_type": "display_data"
    }
   ],
   "source": [
    "plt.plot( 'size','AES_Encryption', data=df, marker='', color='red', linewidth=2)\n",
    "plt.plot( 'size','DES_Encryption', data=df, marker='', color='blue', linewidth=2)\n",
    "plt.plot( 'size','AES_Decryption', data=df, marker='', color='red', linewidth=2,  linestyle=':')\n",
    "plt.plot( 'size','DES_Decryption', data=df, marker='', color='blue', linewidth=2,  linestyle=':')\n",
    "plt.legend()\n",
    "plt.ylabel('time (s)')\n",
    "plt.xlabel('size(MB)')\n",
    "plt.figure(figsize=(12,6), dpi= 80)"
   ]
  },
  {
   "cell_type": "code",
   "execution_count": 78,
   "metadata": {},
   "outputs": [],
   "source": [
    "def read_file(file_name):\n",
    "    with open(file_name,'r') as f:\n",
    "        file_contents = f.read().encode('utf-8')\n",
    "    print('File:', file_name)\n",
    "    return file_contents"
   ]
  },
  {
   "cell_type": "code",
   "execution_count": 13,
   "metadata": {},
   "outputs": [],
   "source": [
    "def read(key, iv):\n",
    "    if not key: key = read_key().encode('utf-8')\n",
    "    if not iv: iv = read_iv().encode('utf-8')\n",
    "    return key, iv"
   ]
  },
  {
   "cell_type": "code",
   "execution_count": 41,
   "metadata": {},
   "outputs": [],
   "source": [
    "def CBC(Cipher, key=None, iv=None):\n",
    "    \n",
    "    _pad = lambda data: pad(data, Cipher.block_size)\n",
    "    \n",
    "    key, iv = map(_pad, read(key, iv))\n",
    "    \n",
    "    block_size = Cipher.block_size\n",
    "        \n",
    "    sizes = [100]\n",
    "    create_files(sizes)\n",
    "\n",
    "    file_name = f'text.{sizes[0]}MB.txt'\n",
    "    \n",
    "    cipher_enc = Cipher.new(key=key, iv=iv, mode=Cipher.MODE_CBC)\n",
    "\n",
    "    file_contents = read_file(file_name)\n",
    "\n",
    "    padded_file_contents = pad(file_contents, block_size)\n",
    "    cipher_text, enc_time_elapsed = encrypt(cipher_enc, padded_file_contents)\n",
    "    \n",
    "    cipher_dec = Cipher.new(key=key, iv=iv, mode=Cipher.MODE_CBC)\n",
    "\n",
    "    decrypted, dec_time_elapsed = decrypt(cipher_dec, cipher_text)\n",
    "    decrypted = unpad(decrypted, block_size)\n",
    "\n",
    "    print(CBC.__name__, Cipher.__name__)\n",
    "    print('Successful:',file_contents == decrypted, '\\n')\n",
    "    return (enc_time_elapsed, dec_time_elapsed)"
   ]
  },
  {
   "cell_type": "code",
   "execution_count": 42,
   "metadata": {},
   "outputs": [],
   "source": [
    "def ECB(Cipher, key=None, iv=None):\n",
    "    \n",
    "    _pad = lambda data: pad(data, Cipher.block_size)\n",
    "    key, iv = map(_pad, read(key, iv))\n",
    "    \n",
    "    block_size = Cipher.block_size\n",
    "    sizes = [100]\n",
    "    create_files(sizes)\n",
    "    file_name = f'text.{sizes[0]}MB.txt'\n",
    "    \n",
    "    cipher_enc = Cipher.new(key=key, mode=Cipher.MODE_ECB)\n",
    "    \n",
    "    file_contents = read_file(file_name)\n",
    "\n",
    "    padded_file_contents = pad(file_contents, block_size)\n",
    "    cipher_text, enc_time_elapsed = encrypt(cipher_enc, padded_file_contents)\n",
    "    \n",
    "    cipher_dec = Cipher.new(key=key, mode=Cipher.MODE_ECB)\n",
    "\n",
    "    decrypted, dec_time_elapsed = decrypt(cipher_dec, cipher_text)\n",
    "    decrypted = unpad(decrypted, block_size)\n",
    "    \n",
    "    print(ECB.__name__, Cipher.__name__)\n",
    "    print('Successful:',file_contents == decrypted, '\\n')\n",
    "    return (enc_time_elapsed, dec_time_elapsed)"
   ]
  },
  {
   "cell_type": "code",
   "execution_count": 43,
   "metadata": {},
   "outputs": [],
   "source": [
    "def CTR(Cipher, key=None, iv=None):\n",
    "    \n",
    "    _pad = lambda data: pad(data, Cipher.block_size)\n",
    "    key, iv = map(_pad, read(key, iv))\n",
    "    \n",
    "    block_size = Cipher.block_size\n",
    "\n",
    "    sizes = [100]\n",
    "    create_files(sizes)\n",
    "\n",
    "    file_name = f'text.{sizes[0]}MB.txt'\n",
    "    \n",
    "    cipher_enc = Cipher.new(key=key, nonce=b'0' ,mode=Cipher.MODE_CTR)\n",
    "\n",
    "    file_contents = read_file(file_name)\n",
    "\n",
    "    padded_file_contents = pad(file_contents, block_size)\n",
    "    cipher_text, enc_time_elapsed = encrypt(cipher_enc, padded_file_contents)\n",
    "    \n",
    "    cipher_dec = Cipher.new(key=key, nonce=b'0', mode=Cipher.MODE_CTR)\n",
    "\n",
    "    decrypted, dec_time_elapsed = decrypt(cipher_dec, cipher_text)\n",
    "    decrypted = unpad(decrypted, block_size)\n",
    "    \n",
    "    print(CTR.__name__, Cipher.__name__)\n",
    "    print('Successful:',file_contents == decrypted, '\\n')\n",
    "    return (enc_time_elapsed, dec_time_elapsed)"
   ]
  },
  {
   "cell_type": "code",
   "execution_count": null,
   "metadata": {},
   "outputs": [],
   "source": [
    "from Crypto.Cipher import DES, AES\n",
    "from Crypto.Util.Padding import pad, unpad"
   ]
  },
  {
   "cell_type": "code",
   "execution_count": null,
   "metadata": {},
   "outputs": [],
   "source": [
    "CTR(DES)\n",
    "CTR(AES)"
   ]
  },
  {
   "cell_type": "code",
   "execution_count": null,
   "metadata": {},
   "outputs": [],
   "source": []
  }
 ],
 "metadata": {
  "kernelspec": {
   "display_name": "Python 3",
   "language": "python",
   "name": "python3"
  },
  "language_info": {
   "codemirror_mode": {
    "name": "ipython",
    "version": 3
   },
   "file_extension": ".py",
   "mimetype": "text/x-python",
   "name": "python",
   "nbconvert_exporter": "python",
   "pygments_lexer": "ipython3",
   "version": "3.6.5"
  }
 },
 "nbformat": 4,
 "nbformat_minor": 2
}
