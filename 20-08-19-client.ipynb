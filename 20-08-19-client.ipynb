{
 "cells": [
  {
   "cell_type": "code",
   "execution_count": 1,
   "metadata": {},
   "outputs": [],
   "source": [
    "def encrypt(data, k):\n",
    "    alphabet = dict()\n",
    "    for i in range(26):\n",
    "        alphabet[chr(i+65)] = chr(((i+k)%26)+65)\n",
    "    for i in range(26):\n",
    "        alphabet[chr(i+97)] = chr(((i+k)%26)+97)    \n",
    "    alphabet[' '] = ' '\n",
    "    return ''.join(map(lambda e: alphabet[e],list(data)))"
   ]
  },
  {
   "cell_type": "code",
   "execution_count": 2,
   "metadata": {},
   "outputs": [],
   "source": [
    "import socket \n",
    "import sys\n",
    "from random import randint"
   ]
  },
  {
   "cell_type": "code",
   "execution_count": 3,
   "metadata": {},
   "outputs": [
    {
     "name": "stdout",
     "output_type": "stream",
     "text": [
      "Enter the port number of server: 1326\n"
     ]
    }
   ],
   "source": [
    "port = int(input(\"Enter the port number of server: \"))"
   ]
  },
  {
   "cell_type": "code",
   "execution_count": 5,
   "metadata": {},
   "outputs": [
    {
     "name": "stdout",
     "output_type": "stream",
     "text": [
      "Enter the data: ey\n"
     ]
    }
   ],
   "source": [
    "try: \n",
    "    client = socket.socket()\n",
    "    client.connect(('127.0.0.1', port))\n",
    "    data = input(\"Enter the data: \")\n",
    "    k = randint(1,25)\n",
    "    client.send(bytes(encrypt(data, k), 'utf-8'))\n",
    "    client.close()\n",
    "except socket.error as e:\n",
    "    print(e)"
   ]
  },
  {
   "cell_type": "code",
   "execution_count": null,
   "metadata": {},
   "outputs": [],
   "source": []
  }
 ],
 "metadata": {
  "kernelspec": {
   "display_name": "Python 3",
   "language": "python",
   "name": "python3"
  },
  "language_info": {
   "codemirror_mode": {
    "name": "ipython",
    "version": 3
   },
   "file_extension": ".py",
   "mimetype": "text/x-python",
   "name": "python",
   "nbconvert_exporter": "python",
   "pygments_lexer": "ipython3",
   "version": "3.6.5"
  }
 },
 "nbformat": 4,
 "nbformat_minor": 2
}
